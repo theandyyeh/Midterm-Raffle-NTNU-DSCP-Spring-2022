{
  "nbformat": 4,
  "nbformat_minor": 0,
  "metadata": {
    "colab": {
      "name": "Midterm_Raffle_Andy.ipynb",
      "provenance": [],
      "collapsed_sections": []
    },
    "kernelspec": {
      "name": "python3",
      "display_name": "Python 3"
    },
    "language_info": {
      "name": "python"
    }
  },
  "cells": [
    {
      "cell_type": "code",
      "execution_count": null,
      "metadata": {
        "id": "PJv-6xc_Qyi6"
      },
      "outputs": [],
      "source": [
        "# 1. collect data: participants.\n",
        "# 2. build an algorithm to randomly choose 3 winners."
      ]
    },
    {
      "cell_type": "code",
      "source": [
        "# Type: List\n",
        "\n",
        "f = open(\"reply.txt\", \"r\", encoding=\"utf-8\")\n",
        "data = f.readlines()\n",
        "lst = []\n",
        "for i in range (0, len(data),2): #公差為2\n",
        "  lst.append(data[i][:-7].strip()) #[-7]由後往前把七個去除\n",
        "lst"
      ],
      "metadata": {
        "colab": {
          "base_uri": "https://localhost:8080/"
        },
        "id": "8-Ll-410R0jq",
        "outputId": "01485f6e-1768-470a-8ead-b52aaf5824d7"
      },
      "execution_count": 27,
      "outputs": [
        {
          "output_type": "execute_result",
          "data": {
            "text/plain": [
              "['你',\n",
              " '台師大伍恩輝',\n",
              " 'Yuying Wang',\n",
              " '台師大余昱頫',\n",
              " '台師大鄭全盛',\n",
              " '台師大張翊軒',\n",
              " '台師大黃清河',\n",
              " '台師大李韻妤',\n",
              " '台師大游倢',\n",
              " 'Alex Wong',\n",
              " '台師大孫源智',\n",
              " '台師大陳宗毅',\n",
              " '台師大陳永聖',\n",
              " '台師大吳冠毅',\n",
              " '台師大唐**蓁',\n",
              " '台師大時新雅',\n",
              " '童嘉儀',\n",
              " 'Yuying Wang',\n",
              " '衛教系李侑芯',\n",
              " '台師大吳金芳',\n",
              " 'Yuying Wang',\n",
              " '台師大簡中裕',\n",
              " '台師大丁緒維',\n",
              " '台師大楊祺光',\n",
              " 'Yuying Wang',\n",
              " '孔茉莉Muriel Kuhn',\n",
              " '台師大李家銓',\n",
              " '謝明勳',\n",
              " 'Yuying Wang',\n",
              " '梅雅妮Noelia Denisse Mercado Torres',\n",
              " 'Yuying Wang',\n",
              " '台師大蔡培岑',\n",
              " 'Yuying Wang',\n",
              " '台師大蘇之亦',\n",
              " 'Yuying Wang',\n",
              " '台師大潘又霆',\n",
              " '台師大林容嘉',\n",
              " '台師大余昱頫']"
            ]
          },
          "metadata": {},
          "execution_count": 27
        }
      ]
    },
    {
      "cell_type": "code",
      "source": [
        "#To prevent multiple entries\n",
        "set(lst)"
      ],
      "metadata": {
        "colab": {
          "base_uri": "https://localhost:8080/"
        },
        "id": "iQFWhKrRekOs",
        "outputId": "14ac81a3-157b-445b-c1ab-1eae56bd0cdd"
      },
      "execution_count": 29,
      "outputs": [
        {
          "output_type": "execute_result",
          "data": {
            "text/plain": [
              "{'Alex Wong',\n",
              " 'Yuying Wang',\n",
              " '你',\n",
              " '台師大丁緒維',\n",
              " '台師大伍恩輝',\n",
              " '台師大余昱頫',\n",
              " '台師大吳冠毅',\n",
              " '台師大吳金芳',\n",
              " '台師大唐**蓁',\n",
              " '台師大孫源智',\n",
              " '台師大張翊軒',\n",
              " '台師大時新雅',\n",
              " '台師大李家銓',\n",
              " '台師大李韻妤',\n",
              " '台師大林容嘉',\n",
              " '台師大楊祺光',\n",
              " '台師大游倢',\n",
              " '台師大潘又霆',\n",
              " '台師大簡中裕',\n",
              " '台師大蔡培岑',\n",
              " '台師大蘇之亦',\n",
              " '台師大鄭全盛',\n",
              " '台師大陳宗毅',\n",
              " '台師大陳永聖',\n",
              " '台師大黃清河',\n",
              " '孔茉莉Muriel Kuhn',\n",
              " '梅雅妮Noelia Denisse Mercado Torres',\n",
              " '童嘉儀',\n",
              " '衛教系李侑芯',\n",
              " '謝明勳'}"
            ]
          },
          "metadata": {},
          "execution_count": 29
        }
      ]
    },
    {
      "cell_type": "code",
      "source": [
        "import random\n",
        "print(random.sample(lst, k=3)) #不會重複random.sample 會重複 random.choices"
      ],
      "metadata": {
        "colab": {
          "base_uri": "https://localhost:8080/"
        },
        "id": "2XMWyuBfWrlD",
        "outputId": "e55f7601-99f0-4fbd-9910-a364cf80d208"
      },
      "execution_count": 30,
      "outputs": [
        {
          "output_type": "stream",
          "name": "stdout",
          "text": [
            "['台師大唐**蓁', 'Yuying Wang', '謝明勳']\n"
          ]
        }
      ]
    },
    {
      "cell_type": "code",
      "source": [
        ""
      ],
      "metadata": {
        "id": "Q44kcNRobRs1"
      },
      "execution_count": 20,
      "outputs": []
    }
  ]
}