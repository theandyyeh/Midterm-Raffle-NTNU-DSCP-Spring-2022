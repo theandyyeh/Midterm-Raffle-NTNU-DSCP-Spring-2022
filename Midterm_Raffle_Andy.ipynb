{
  "nbformat": 4,
  "nbformat_minor": 0,
  "metadata": {
    "colab": {
      "name": "Midterm_Raffle_Andy.ipynb",
      "provenance": [],
      "collapsed_sections": [],
      "authorship_tag": "ABX9TyPVARmgkw8h6tMbl7LCGnEl",
      "include_colab_link": true
    },
    "kernelspec": {
      "name": "python3",
      "display_name": "Python 3"
    },
    "language_info": {
      "name": "python"
    }
  },
  "cells": [
    {
      "cell_type": "markdown",
      "metadata": {
        "id": "view-in-github",
        "colab_type": "text"
      },
      "source": [
        "<a href=\"https://colab.research.google.com/github/theandyyeh/Spring-2022-Data-Science/blob/main/Midterm_Raffle_Andy.ipynb\" target=\"_parent\"><img src=\"https://colab.research.google.com/assets/colab-badge.svg\" alt=\"Open In Colab\"/></a>"
      ]
    },
    {
      "cell_type": "markdown",
      "source": [
        "# Professor's Version\n",
        "\n",
        "(1) 請大家留言（一行隨機字串）\n",
        "\n",
        "\n",
        "(2) 隨機抽一個名字"
      ],
      "metadata": {
        "id": "2tkAPf0mwHOJ"
      }
    },
    {
      "cell_type": "code",
      "source": [
        "# 1. collect data: participants.\n",
        "# 2. build an algorithm to randomly choose 3 winners.\n",
        "\n",
        "f = open(\"reply.txt\", \"r\", encoding=\"utf-8\")\n",
        "data = f.readlines()\n",
        "lst = []\n",
        "for i in range (0, len(data),2): #公差為2\n",
        "  lst.append(data[i][:-7].strip()) #[-7]由後往前把七個去除\n",
        "lst\n",
        "\n",
        "#To prevent multiple entries\n",
        "set(lst)\n",
        "\n",
        "#Generate the result\n",
        "import random\n",
        "print(random.sample(lst, k=3)) #不會重複random.sample 會重複 random.choices"
      ],
      "metadata": {
        "colab": {
          "base_uri": "https://localhost:8080/"
        },
        "id": "8-Ll-410R0jq",
        "outputId": "6204c8c4-3b90-4085-8dc4-9a76851a2014"
      },
      "execution_count": 32,
      "outputs": [
        {
          "output_type": "stream",
          "name": "stdout",
          "text": [
            "['孔茉莉Muriel Kuhn', 'Yuying Wang', '台師大唐**蓁']\n"
          ]
        }
      ]
    },
    {
      "cell_type": "markdown",
      "source": [
        "# My Version\n",
        "\n",
        "(1) 請大家留言（1-100的其中一個整數）\n",
        "\n",
        "\n",
        "(2) 重複留言失去資格\n",
        "\n",
        "\n",
        "(3) 數字和別人一樣失去資格\n",
        "\n",
        "\n",
        "(4) 最後剩下的人，數字最大前三名為Winners。"
      ],
      "metadata": {
        "id": "WSn9pBO9wM0y"
      }
    },
    {
      "cell_type": "code",
      "source": [
        "#A名字一樣的全拿掉（紀錄位置）\n",
        "#B數字一樣的全拿掉（記錄位置）myList = list(filter((1).__ne__, myList))\n",
        "#C比大小，用數字（已經有獨特性）回推位置\n",
        "#D產生贏家\n",
        "#好像可以用巢狀列表（lists in a list）的方式儲存 lst = [[Name1, Value1],[Name2, Value2],...]\n",
        "\n",
        "f = open(\"reply.txt\", \"r\", encoding=\"utf-8\")\n",
        "data = f.readlines()\n",
        "lst_name = []\n",
        "lst_value = []\n",
        "for i in range (0, len(data),2): #公差為2\n",
        "  lst_name.append(data[i][:-7].strip()) #[-7]由後往前把七個去除\n",
        "  lst_value.append(data[i+1].strip())\n",
        "\n",
        "#A_尋找重複留言的人，並記錄其名字所在的位置\n",
        "lst_cheaters_position = [] #aka duplicate_name/value_position\n",
        "for i in range(len(lst_name)-1):\n",
        "  for j in range(i+1, len(lst_name)):\n",
        "    if lst_name[i] == lst_name[j]:\n",
        "      lst_cheaters_position.append(i) #存位置\n",
        "      lst_cheaters_position.append(j) #存位置\n",
        "lst_cheaters_position = list(set(lst_cheaters_position)) #(1) 留下的就是那些重複名字的人的位置，通通排除(2) set出來會是dict，要轉list\n",
        "\n",
        "#A_取消得獎資格1（刪除名字也刪除其數值）b/c重複填答\n",
        "for k in lst_cheaters_position:\n",
        "  lst_name[k] = \"\"\n",
        "  lst_value[k] = \"\"\n",
        "lst_name = list(filter((\"\").__ne__, lst_name))\n",
        "lst_value = list(filter((\"\").__ne__, lst_value))\n",
        "for l in range(len(lst_value)): #str to int\n",
        "  lst_value[l] = int(lst_value[l])\n",
        "\n",
        "#B_尋找重複Value，如果有，連同name都刪掉\n",
        "lst_duplicate_value = []\n",
        "for m in range(len(lst_value)-1): #initial=0 (the first element)\n",
        "  for n in range(m+1, len(lst_value)): #initial=1 (the second element)\n",
        "    if lst_value[m] == lst_value[n]:\n",
        "      lst_duplicate_value.append(m)\n",
        "      lst_duplicate_value.append(n)\n",
        "lst_duplicate_value = list(set(lst_duplicate_value))\n",
        "\n",
        "#B_取消得獎資格2（刪除名字也刪除其數值）b/c給出的value重複\n",
        "for o in lst_duplicate_value:\n",
        "  lst_name[o] = \"\"\n",
        "  lst_value[o] = \"\"\n",
        "lst_name = list(filter((\"\").__ne__, lst_name))\n",
        "lst_value = list(filter((\"\").__ne__, lst_value))\n",
        "lst_value_original = [] #把原始序列先儲存下來，後面才能回推名字\n",
        "for i in lst_value:\n",
        "  lst_value_original.append(i)\n",
        "\n",
        "#C_Value比大小，將lst_value由大到小排列（原本的順序已經由lst_value_original記錄下來）\n",
        "for r in range(len(lst_value)-1):\n",
        "  for s in range(r+1, len(lst_value)):\n",
        "    Max_temp_position = r\n",
        "    if lst_value[s] > lst_value[r]: #檢驗是否比暫時最大值還要大，若是則Max_temp_position要換人（這個變數用於記錄位置）\n",
        "      Max_temp_position = s\n",
        "    Swap_Temp = lst_value[r] #原本的假設的最大值（數值）\n",
        "    lst_value[r] = lst_value[Max_temp_position] #首位放新最大值（數值）\n",
        "    lst_value[Max_temp_position] = Swap_Temp #新最大值原本所在的位置，要改放原本假設的最大值（數值）\n",
        "\n",
        "#D_產生贏家（去找原始數列位置，然後對應名字位置，就是winners）\n",
        "for t in range(3): #the number of winners\n",
        "  print(lst_name[lst_value_original.index(lst_value[t])]) #去看original裡面對應的最大值前三名的位置，然後該位置拿去lst_name就能對照出贏家的名字\n",
        "\n",
        "\n"
      ],
      "metadata": {
        "colab": {
          "base_uri": "https://localhost:8080/"
        },
        "id": "HgRCU9vz8AhI",
        "outputId": "9b2d4b68-b195-48ee-f5f2-c22694c47815"
      },
      "execution_count": 29,
      "outputs": [
        {
          "output_type": "stream",
          "name": "stdout",
          "text": [
            "台師大李韻妤\n",
            "台師大楊祺光\n",
            "台師大蔡培岑\n"
          ]
        }
      ]
    }
  ]
}